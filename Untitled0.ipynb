{
 "metadata": {
  "name": "",
  "signature": "sha256:59a0636b46b47934146316e2b177968ba07ca821ef754d62799c06647eb3d615"
 },
 "nbformat": 3,
 "nbformat_minor": 0,
 "worksheets": [
  {
   "cells": [
    {
     "cell_type": "code",
     "collapsed": false,
     "input": [
      "#Collections of functions/codes from hw 2"
     ],
     "language": "python",
     "metadata": {},
     "outputs": [],
     "prompt_number": 4
    },
    {
     "cell_type": "code",
     "collapsed": false,
     "input": [
      "#To create a dummy variable for a dataframe\n",
      "e2008['obama_win']=1*(prediction_08.Dem_Win > 0)\n",
      "pd.DataFrame(dict(Obama=(gallup.Dem_Adv > 0).astype(float)))\n"
     ],
     "language": "python",
     "metadata": {},
     "outputs": []
    }
   ],
   "metadata": {}
  }
 ]
}