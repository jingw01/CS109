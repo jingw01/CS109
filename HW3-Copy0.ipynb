{
 "metadata": {
  "name": "",
  "signature": "sha256:1f7c4db25d2281243f20e440638f7cc0d0f82275bc684b94d9e069a03b0963a0"
 },
 "nbformat": 3,
 "nbformat_minor": 0,
 "worksheets": [
  {
   "cells": [
    {
     "cell_type": "markdown",
     "metadata": {},
     "source": [
      "# Homework 3. Bayesian Tomatoes"
     ]
    },
    {
     "cell_type": "markdown",
     "metadata": {},
     "source": [
      "Due Thursday, October 17, 11:59pm"
     ]
    },
    {
     "cell_type": "markdown",
     "metadata": {},
     "source": [
      "<div class=\"banner-container\">\n",
      "<img src=\"http://content7.flixster.com/movie/11/16/81/11168101_det.jpg\" width=180>\n",
      "</div>\n",
      "\n",
      "<div class=\"banner-container\">\n",
      "<img src=\"http://content6.flixster.com/movie/11/15/15/11151508_det.jpg\" width=180>\n",
      "</div>\n",
      "\n",
      "<div class=\"banner-container\">\n",
      "<img src=\"http://content9.flixster.com/movie/11/16/61/11166199_det.jpg\" width=180>\n",
      "</div>\n",
      "\n",
      "<div class=\"clear\"> </div>\n",
      "\n",
      "<style type=\"text/css\">\n",
      ".banner-container {\n",
      "height:350px;\n",
      "margin-left: 30px;\n",
      "float:left;\n",
      "}\n",
      ".clear {\n",
      "clear:both;\n",
      "}\n",
      "</style>"
     ]
    },
    {
     "cell_type": "markdown",
     "metadata": {},
     "source": [
      "In this assignment, you'll be analyzing movie reviews from [Rotten Tomatoes](http://www.rottentomatoes.com). This assignment will cover:\n",
      "\n",
      " * Working with web APIs\n",
      " * Making and interpreting predictions from a Bayesian perspective\n",
      " * Using the Naive Bayes algorithm to predict whether a movie review is positive or negative\n",
      " * Using cross validation to optimize models\n",
      "\n",
      "Useful libraries for this assignment\n",
      "\n",
      "* [numpy](http://docs.scipy.org/doc/numpy-dev/user/index.html), for arrays\n",
      "* [scikit-learn](http://scikit-learn.org/stable/), for machine learning\n",
      "* [json](http://docs.python.org/2/library/json.html) for parsing JSON data from the web.\n",
      "* [pandas](http://pandas.pydata.org/), for data frames\n",
      "* [matplotlib](http://matplotlib.org/), for plotting\n",
      "* [requests](http://docs.python-requests.org/en/latest/), for downloading web content"
     ]
    },
    {
     "cell_type": "code",
     "collapsed": false,
     "input": [
      "%matplotlib inline\n",
      "\n",
      "import json\n",
      "\n",
      "import requests\n",
      "import pandas as pd\n",
      "import numpy as np\n",
      "import matplotlib.pyplot as plt\n",
      "\n",
      "pd.set_option('display.width', 500)\n",
      "pd.set_option('display.max_columns', 30)\n",
      "\n",
      "# set some nicer defaults for matplotlib\n",
      "from matplotlib import rcParams\n",
      "\n",
      "#these colors come from colorbrewer2.org. Each is an RGB triplet\n",
      "dark2_colors = [(0.10588235294117647, 0.6196078431372549, 0.4666666666666667),\n",
      "                (0.8509803921568627, 0.37254901960784315, 0.00784313725490196),\n",
      "                (0.4588235294117647, 0.4392156862745098, 0.7019607843137254),\n",
      "                (0.9058823529411765, 0.1607843137254902, 0.5411764705882353),\n",
      "                (0.4, 0.6509803921568628, 0.11764705882352941),\n",
      "                (0.9019607843137255, 0.6705882352941176, 0.00784313725490196),\n",
      "                (0.6509803921568628, 0.4627450980392157, 0.11372549019607843),\n",
      "                (0.4, 0.4, 0.4)]\n",
      "\n",
      "rcParams['figure.figsize'] = (10, 6)\n",
      "rcParams['figure.dpi'] = 150\n",
      "rcParams['axes.color_cycle'] = dark2_colors\n",
      "rcParams['lines.linewidth'] = 2\n",
      "rcParams['axes.grid'] = False\n",
      "rcParams['axes.facecolor'] = 'white'\n",
      "rcParams['font.size'] = 14\n",
      "rcParams['patch.edgecolor'] = 'none'\n",
      "\n",
      "\n",
      "def remove_border(axes=None, top=False, right=False, left=True, bottom=True):\n",
      "    \"\"\"\n",
      "    Minimize chartjunk by stripping out unnecessary plot borders and axis ticks\n",
      "    \n",
      "    The top/right/left/bottom keywords toggle whether the corresponding plot border is drawn\n",
      "    \"\"\"\n",
      "    ax = axes or plt.gca()\n",
      "    ax.spines['top'].set_visible(top)\n",
      "    ax.spines['right'].set_visible(right)\n",
      "    ax.spines['left'].set_visible(left)\n",
      "    ax.spines['bottom'].set_visible(bottom)\n",
      "    \n",
      "    #turn off all ticks\n",
      "    ax.yaxis.set_ticks_position('none')\n",
      "    ax.xaxis.set_ticks_position('none')\n",
      "    \n",
      "    #now re-enable visibles\n",
      "    if top:\n",
      "        ax.xaxis.tick_top()\n",
      "    if bottom:\n",
      "        ax.xaxis.tick_bottom()\n",
      "    if left:\n",
      "        ax.yaxis.tick_left()\n",
      "    if right:\n",
      "        ax.yaxis.tick_right()"
     ],
     "language": "python",
     "metadata": {},
     "outputs": [],
     "prompt_number": 2
    },
    {
     "cell_type": "markdown",
     "metadata": {},
     "source": [
      "## Introduction\n",
      "\n",
      "Rotten Tomatoes gathers movie reviews from critics. An [entry on the website](http://www.rottentomatoes.com/m/primer/reviews/?type=top_critics) typically consists of a short quote, a link to the full review, and a Fresh/Rotten classification which summarizes whether the critic liked/disliked the movie.\n",
      "\n",
      "\n",
      "When critics give quantitative ratings (say 3/4 stars, Thumbs up, etc.), determining the Fresh/Rotten classification is easy. However, publications like the New York Times don't assign numerical ratings to movies, and thus the Fresh/Rotten classification must be inferred from the text of the review itself.\n",
      "\n",
      "This basic task of categorizing text has many applications. All of the following questions boil down to text classification:\n",
      "\n",
      " * Is a movie review positive or negative?\n",
      " * Is an email spam, or not?\n",
      " * Is a comment on a blog discussion board appropriate, or not?\n",
      " * Is a tweet about your company positive, or not?\n",
      " \n",
      "\n",
      "Language is incredibly nuanced, and there is an entire field of computer science dedicated to the topic (Natural Language Processing). Nevertheless, we can construct basic language models using fairly straightforward techniques. \n",
      "\n",
      "## The Data\n",
      "\n",
      "You will be starting with a database of Movies, derived from the MovieLens dataset. This dataset includes information for about 10,000 movies, including the IMDB id for each movie. \n",
      "\n",
      "Your first task is to download Rotten Tomatoes reviews from 3000 of these movies, using the Rotten Tomatoes API (Application Programming Interface)."
     ]
    },
    {
     "cell_type": "markdown",
     "metadata": {},
     "source": [
      "### Working with Web APIs\n",
      "Web APIs are a more convenient way for programs to interact with websites. Rotten Tomatoes has a nice API that gives access to its data in JSON format.\n",
      "\n",
      "To use this, you will first need to [register for an API key](http://developer.rottentomatoes.com/member/register). For \"application URL\", you can use anything -- it doesn't matter.\n",
      "\n",
      "After you have a key, the [documentation page](http://developer.rottentomatoes.com/iodocs) shows the various data you can fetch from Rotten Tomatoes -- each type of data lives at a different web address. The basic pattern for fetching this data with Python is as follows (compare this to the `Movie Reviews` tab on the documentation page):"
     ]
    },
    {
     "cell_type": "code",
     "collapsed": false,
     "input": [
      "api_key = 'e5ba83vcg7h48whf3gctb84h'\n",
      "movie_id = '770672122'  # toy story 3\n",
      "url = 'http://api.rottentomatoes.com/api/public/v1.0/movies/%s/reviews.json' % movie_id\n",
      "\n",
      "#these are \"get parameters\"\n",
      "options = {'review_type': 'top_critic', 'page_limit': 20, 'page': 1, 'apikey': api_key}\n",
      "data = requests.get(url, params=options).text\n",
      "data = json.loads(data)  # load a json string into a collection of lists and dicts\n",
      "\n",
      "print json.dumps(data['reviews'][0], indent=2)  # dump an object into a json string"
     ],
     "language": "python",
     "metadata": {},
     "outputs": [
      {
       "output_type": "stream",
       "stream": "stdout",
       "text": [
        "{\n",
        "  \"publication\": \"Village Voice\", \n",
        "  \"links\": {\n",
        "    \"review\": \"http://www.villagevoice.com/2010-06-15/film/toys-are-us-in-toy-story-3/full/\"\n",
        "  }, \n",
        "  \"quote\": \"When teenaged Andy plops down on the grass to share his old toys with a shy little girl, the film spikes with sadness and layered pleasure -- a concise, deeply wise expression of the ephemeral that feels real and yet utterly transporting.\", \n",
        "  \"freshness\": \"fresh\", \n",
        "  \"critic\": \"Eric Hynes\", \n",
        "  \"date\": \"2013-08-04\"\n",
        "}\n"
       ]
      }
     ],
     "prompt_number": 2
    },
    {
     "cell_type": "markdown",
     "metadata": {},
     "source": [
      "## Part 1: Get the data\n",
      "Here's a chunk of the MovieLens Dataset:"
     ]
    },
    {
     "cell_type": "code",
     "collapsed": false,
     "input": [
      "from io import StringIO  \n",
      "movie_txt = requests.get('https://raw.github.com/cs109/cs109_data/master/movies.dat').text\n",
      "movie_file = StringIO(movie_txt) # treat a string like a file\n",
      "movies = pd.read_csv(movie_file, delimiter='\\t')\n",
      "\n",
      "#print the first row\n",
      "movies[['id', 'title', 'imdbID', 'year']].irow(0)"
     ],
     "language": "python",
     "metadata": {},
     "outputs": [
      {
       "metadata": {},
       "output_type": "pyout",
       "prompt_number": 44,
       "text": [
        "id                1\n",
        "title     Toy story\n",
        "imdbID       114709\n",
        "year           1995\n",
        "Name: 0, dtype: object"
       ]
      }
     ],
     "prompt_number": 44
    },
    {
     "cell_type": "markdown",
     "metadata": {},
     "source": [
      "#### P1.1\n",
      "\n",
      "We'd like you to write a function that looks up the first 20 Top Critic Rotten Tomatoes reviews for a movie in the `movies` dataframe. This involves two steps:\n",
      "\n",
      "1. Use the `Movie Alias` API to look up the Rotten Tomatoes movie id from the IMDB id\n",
      "1. Use the `Movie Reviews` API to fetch the first 20 top-critic reviews for this movie\n",
      "\n",
      "Not all movies have Rotten Tomatoes IDs. In these cases, your function should return `None`. The detailed spec is below. We are giving you some freedom with how you implement this, but you'll probably want to break this task up into several small functions.\n",
      "\n",
      "**Hint**\n",
      "In some situations, the leading 0s in front of IMDB ids are important. IMDB ids have 7 digits"
     ]
    },
    {
     "cell_type": "code",
     "collapsed": true,
     "input": [
      "\"\"\"\n",
      "Function\n",
      "--------\n",
      "fetch_reviews(movies, row)\n",
      "\n",
      "Use the Rotten Tomatoes web API to fetch reviews for a particular movie\n",
      "\n",
      "Parameters\n",
      "----------\n",
      "movies : DataFrame \n",
      "  The movies data above\n",
      "row : int\n",
      "  The row of the movies DataFrame to use\n",
      "  \n",
      "Returns\n",
      "-------\n",
      "If you can match the IMDB id to a Rotten Tomatoes ID:\n",
      "  A DataFrame, containing the first 20 Top Critic reviews \n",
      "  for the movie. If a movie has less than 20 total reviews, return them all.\n",
      "  This should have the following columns:\n",
      "    critic : Name of the critic\n",
      "    fresh  : 'fresh' or 'rotten'\n",
      "    imdb   : IMDB id for the movie\n",
      "    publication: Publication that the critic writes for\n",
      "    quote  : string containing the movie review quote\n",
      "    review_data: Date of review\n",
      "    rtid   : Rotten Tomatoes ID for the movie\n",
      "    title  : Name of the movie\n",
      "    \n",
      "If you cannot match the IMDB id to a Rotten Tomatoes ID, return None\n",
      "\n",
      "Examples\n",
      "--------\n",
      ">>> reviews = fetch_reviews(movies, 0)\n",
      ">>> print len(reviews)\n",
      "20\n",
      ">>> print reviews.irow(1)\n",
      "critic                                               Derek Adams\n",
      "fresh                                                      fresh\n",
      "imdb                                                      114709\n",
      "publication                                             Time Out\n",
      "quote          So ingenious in concept, design and execution ...\n",
      "review_date                                           2009-10-04\n",
      "rtid                                                        9559\n",
      "title                                                  Toy story\n",
      "Name: 1, dtype: object\n",
      "\"\"\"\n",
      "#your code here\n",
      "def find_movie(movieid,api):\n",
      "    url='http://api.rottentomatoes.com/api/public/v1.0/movie_alias.json'\n",
      "    options = {'apikey': api,'type': 'imdb', 'id':movieid}\n",
      "    data = requests.get(url, params=options).text\n",
      "    data = json.loads(data)  # load a json string into a collection of lists and dicts\n",
      "    movie_id=data['id']\n",
      "    movie_title=data['title'] \n",
      "    \n",
      "    url = 'http://api.rottentomatoes.com/api/public/v1.0/movies/%s/reviews.json' % movie_id\n",
      "        \n",
      "        #these are \"get parameters\"\n",
      "    options = {'review_type': 'top_critic', 'page_limit': 20, 'page': 1, 'country': 'us', 'apikey': api}\n",
      "    data = requests.get(url, params=options).text\n",
      "    data = json.loads(data)  # load a json string into a collection of lists and dicts\n",
      "    data = data['reviews']\n",
      "    data = [dict(fresh=r['freshness'], \n",
      "                 quote=r['quote'], \n",
      "                 critic=r['critic'], \n",
      "                 publication=r['publication'], \n",
      "                 review_date=r['date'],\n",
      "                 imdb=movieid, rtid=movie_id,title=movie_title\n",
      "                 ) for r in data]\n",
      "    result=pd.DataFrame(data)\n",
      "    return result\n",
      "    '''\n",
      "    result={}\n",
      "    result['critic']=np.hstack(review['critic'] for review in data['reviews'])\n",
      "    result['fresh']=np.hstack(review['freshness'] for review in data['reviews'])\n",
      "    result['imbd']=np.hstack(movieid for review in data['reviews'])\n",
      "    result['publication']=np.hstack(review['publication'] for review in data['reviews'])\n",
      "    result['quote']=np.hstack(review['quote'] for review in data['reviews'])\n",
      "    result['review_date']=np.hstack(review['date'] for review in data['reviews'])\n",
      "    result['rtid']=np.hstack(movie_id for review in data['reviews'])\n",
      "    result['title']=np.hstack(movie_title for review in data['reviews'])\n",
      "    result=pd.DataFrame(result)\n",
      "    \n",
      "    return result\n",
      "    '''\n",
      "  \n",
      "\n",
      "\n",
      "def fetch_review(movie_df,row):\n",
      "    api_key = 'e5ba83vcg7h48whf3gctb84h'\n",
      "    imdbid=movie_df['imdbID'][row]\n",
      "    imdbID=\"%7.7i\"%imdbid\n",
      "    try:\n",
      "        themovie=find_movie(imdbID,api_key)\n",
      "    except KeyError as e:\n",
      "        return None\n",
      "        print e\n",
      "        print imdbID\n",
      "    return themovie"
     ],
     "language": "python",
     "metadata": {},
     "outputs": [],
     "prompt_number": 21
    },
    {
     "cell_type": "markdown",
     "metadata": {},
     "source": [
      "#### P1.2\n",
      "\n",
      "Use the function you wrote to retrieve reviews for the first 3,000 movies in the movies dataframe.\n",
      "\n",
      "##### Hints\n",
      "* Rotten Tomatoes limits you to **10,000 API requests a day**. Be careful about this limit! Test your code on smaller inputs before scaling. You are responsible if you hit the limit the day the assignment is due :)\n",
      "* This will take a while to download. If you don't want to re-run this function every time you restart the notebook, you can save and re-load this data as a CSV file. However, please don't submit this file"
     ]
    },
    {
     "cell_type": "code",
     "collapsed": false,
     "input": [
      "\"\"\"\n",
      "Function\n",
      "--------\n",
      "build_table\n",
      "\n",
      "Parameters\n",
      "----------\n",
      "movies : DataFrame\n",
      "  The movies data above\n",
      "rows : int\n",
      "  The number of rows to extract reviews for\n",
      "  \n",
      "Returns\n",
      "--------\n",
      "A dataframe\n",
      "  The data obtained by repeatedly calling `fetch_reviews` on the first `rows`\n",
      "  of `movies`, discarding the `None`s,\n",
      "  and concatenating the results into a single DataFrame\n",
      "\"\"\"\n",
      "#your code here\n",
      "def build_table(movies,rows):\n",
      "    df=[]\n",
      "    for n in range(rows):\n",
      "        df.append(fetch_review(movies,n))\n",
      "    \n",
      "    \n",
      "    dfs=[d for d in df if d is not None]\n",
      "    return pd.concat(dfs, ignore_index=True)\n",
      "    \n",
      "    "
     ],
     "language": "python",
     "metadata": {},
     "outputs": [],
     "prompt_number": 22
    },
    {
     "cell_type": "code",
     "collapsed": false,
     "input": [
      "table=build_table(movies,3000)\n"
     ],
     "language": "python",
     "metadata": {},
     "outputs": []
    },
    {
     "cell_type": "code",
     "collapsed": false,
     "input": [
      "table.to_csv(\"critics.csv\",index=False)"
     ],
     "language": "python",
     "metadata": {},
     "outputs": [],
     "prompt_number": 12
    },
    {
     "cell_type": "code",
     "collapsed": false,
     "input": [
      "#you can toggle which lines are commented, if you\n",
      "#want to re-load your results to avoid repeatedly calling this function\n",
      "\n",
      "#critics = build_table(movies, 3000)\n",
      "#critics.to_csv('critics.csv', index=False)\n",
      "critics = pd.read_csv('critics_s.csv')\n",
      "\n",
      "\n",
      "#for this assignment, let's drop rows with missing data\n",
      "critics = critics[~critics.quote.isnull()]\n",
      "critics = critics[critics.fresh != 'none']\n",
      "critics = critics[critics.quote.str.len() > 0]"
     ],
     "language": "python",
     "metadata": {},
     "outputs": [],
     "prompt_number": 3
    },
    {
     "cell_type": "code",
     "collapsed": false,
     "input": [
      "critics.head()\n"
     ],
     "language": "python",
     "metadata": {},
     "outputs": [
      {
       "html": [
        "<div style=\"max-height:1000px;max-width:1500px;overflow:auto;\">\n",
        "<table border=\"1\" class=\"dataframe\">\n",
        "  <thead>\n",
        "    <tr style=\"text-align: right;\">\n",
        "      <th></th>\n",
        "      <th>critic</th>\n",
        "      <th>fresh</th>\n",
        "      <th>imdb</th>\n",
        "      <th>publication</th>\n",
        "      <th>quote</th>\n",
        "      <th>review_date</th>\n",
        "      <th>rtid</th>\n",
        "      <th>title</th>\n",
        "    </tr>\n",
        "  </thead>\n",
        "  <tbody>\n",
        "    <tr>\n",
        "      <th>1</th>\n",
        "      <td>        Derek Adams</td>\n",
        "      <td> fresh</td>\n",
        "      <td> 114709</td>\n",
        "      <td>       Time Out</td>\n",
        "      <td> So ingenious in concept, design and execution ...</td>\n",
        "      <td> 2009-10-04</td>\n",
        "      <td> 9559</td>\n",
        "      <td> Toy story</td>\n",
        "    </tr>\n",
        "    <tr>\n",
        "      <th>2</th>\n",
        "      <td>    Richard Corliss</td>\n",
        "      <td> fresh</td>\n",
        "      <td> 114709</td>\n",
        "      <td>  TIME Magazine</td>\n",
        "      <td>                 The year's most inventive comedy.</td>\n",
        "      <td> 2008-08-31</td>\n",
        "      <td> 9559</td>\n",
        "      <td> Toy story</td>\n",
        "    </tr>\n",
        "    <tr>\n",
        "      <th>3</th>\n",
        "      <td>        David Ansen</td>\n",
        "      <td> fresh</td>\n",
        "      <td> 114709</td>\n",
        "      <td>       Newsweek</td>\n",
        "      <td> A winning animated feature that has something ...</td>\n",
        "      <td> 2008-08-18</td>\n",
        "      <td> 9559</td>\n",
        "      <td> Toy story</td>\n",
        "    </tr>\n",
        "    <tr>\n",
        "      <th>4</th>\n",
        "      <td>      Leonard Klady</td>\n",
        "      <td> fresh</td>\n",
        "      <td> 114709</td>\n",
        "      <td>        Variety</td>\n",
        "      <td> The film sports a provocative and appealing st...</td>\n",
        "      <td> 2008-06-09</td>\n",
        "      <td> 9559</td>\n",
        "      <td> Toy story</td>\n",
        "    </tr>\n",
        "    <tr>\n",
        "      <th>5</th>\n",
        "      <td> Jonathan Rosenbaum</td>\n",
        "      <td> fresh</td>\n",
        "      <td> 114709</td>\n",
        "      <td> Chicago Reader</td>\n",
        "      <td> An entertaining computer-generated, hyperreali...</td>\n",
        "      <td> 2008-03-10</td>\n",
        "      <td> 9559</td>\n",
        "      <td> Toy story</td>\n",
        "    </tr>\n",
        "  </tbody>\n",
        "</table>\n",
        "</div>"
       ],
       "metadata": {},
       "output_type": "pyout",
       "prompt_number": 4,
       "text": [
        "               critic  fresh    imdb     publication                                              quote review_date  rtid      title\n",
        "1         Derek Adams  fresh  114709        Time Out  So ingenious in concept, design and execution ...  2009-10-04  9559  Toy story\n",
        "2     Richard Corliss  fresh  114709   TIME Magazine                  The year's most inventive comedy.  2008-08-31  9559  Toy story\n",
        "3         David Ansen  fresh  114709        Newsweek  A winning animated feature that has something ...  2008-08-18  9559  Toy story\n",
        "4       Leonard Klady  fresh  114709         Variety  The film sports a provocative and appealing st...  2008-06-09  9559  Toy story\n",
        "5  Jonathan Rosenbaum  fresh  114709  Chicago Reader  An entertaining computer-generated, hyperreali...  2008-03-10  9559  Toy story"
       ]
      }
     ],
     "prompt_number": 4
    },
    {
     "cell_type": "markdown",
     "metadata": {},
     "source": [
      "A quick sanity check that everything looks ok at this point"
     ]
    },
    {
     "cell_type": "code",
     "collapsed": false,
     "input": [
      "assert set(critics.columns) == set('critic fresh imdb publication '\n",
      "                                   'quote review_date rtid title'.split())\n",
      "assert len(critics) > 10000"
     ],
     "language": "python",
     "metadata": {},
     "outputs": [],
     "prompt_number": 5
    },
    {
     "cell_type": "markdown",
     "metadata": {},
     "source": [
      "## Part 2: Explore\n",
      "\n",
      "Before delving into analysis, get a sense of what these data look like. Answer the following questions. Include your code!"
     ]
    },
    {
     "cell_type": "markdown",
     "metadata": {},
     "source": [
      "**2.1** How many reviews, critics, and movies are in this dataset?\n"
     ]
    },
    {
     "cell_type": "code",
     "collapsed": false,
     "input": [
      "#your code here\n",
      "print \"the number of critics is \"+str(len(critics.critic.unique()))\n",
      "print \"the number of reviews is \"+str(len(critics.quote))\n",
      "print \"the number of movies is \" + str(len(critics.title.unique()))"
     ],
     "language": "python",
     "metadata": {},
     "outputs": [
      {
       "output_type": "stream",
       "stream": "stdout",
       "text": [
        "the number of critics is 650\n",
        "the number of reviews is 16081\n",
        "the number of movies is 1950\n"
       ]
      }
     ],
     "prompt_number": 6
    },
    {
     "cell_type": "markdown",
     "metadata": {},
     "source": [
      "**2.2** What does the distribution of number of reviews per reviewer look like? Make a histogram"
     ]
    },
    {
     "cell_type": "code",
     "collapsed": false,
     "input": [
      "#Your code here\n",
      "def histogram_style():\n",
      "    remove_border(left=False)\n",
      "    plt.grid(False)\n",
      "    plt.grid(axis='y', color='w', linestyle='-', lw=1)\n",
      "\n",
      "critics.groupby('critic').rtid.count().hist(log=True, bins=range(20),edgecolor='white')\n",
      "plt.xlabel(\"Number of reviews per critic\")\n",
      "plt.ylabel(\"N\")\n",
      "histogram_style()"
     ],
     "language": "python",
     "metadata": {},
     "outputs": [
      {
       "metadata": {},
       "output_type": "display_data",
       "png": "[encoded data removed]",
       "text": [
        "<matplotlib.figure.Figure at 0x9b854f0>"
       ]
      }
     ],
     "prompt_number": 10
    },
    {
     "cell_type": "markdown",
     "metadata": {},
     "source": [
      "**2.3** List the 5 critics with the most reviews, along with the publication they write for"
     ]
    },
    {
     "cell_type": "code",
     "collapsed": false,
     "input": [
      "#Your code here\n",
      "count=critics.groupby(['critic','publication']).rtid.count()\n",
      "count.sort(ascending=0)\n",
      "count.head()\n"
     ],
     "language": "python",
     "metadata": {},
     "outputs": [
      {
       "metadata": {},
       "output_type": "pyout",
       "prompt_number": 22,
       "text": [
        "critic              publication      \n",
        "Roger Ebert         Chicago Sun-Times    1089\n",
        "James Berardinelli  ReelViews             816\n",
        "Janet Maslin        New York Times        532\n",
        "Variety Staff       Variety               453\n",
        "Jonathan Rosenbaum  Chicago Reader        422\n",
        "dtype: int64"
       ]
      }
     ],
     "prompt_number": 22
    },
    {
     "cell_type": "markdown",
     "metadata": {},
     "source": [
      "**2.4** Of the critics with > 100 reviews, plot the distribution of average \"freshness\" rating per critic"
     ]
    },
    {
     "cell_type": "code",
     "collapsed": false,
     "input": [
      "#Your code here\n",
      "df=critics.copy()\n",
      "df['fresh']=df.fresh=='fresh'\n",
      "group=df.groupby('critic')\n",
      "counts=group.critic.count()\n",
      "mean=group.fresh.mean()\n",
      "\n",
      "mean[counts>100].hist(bins=10,edgecolor='w')\n",
      "plt.xlabel(\"Average Freshness per critic\")\n",
      "plt.ylabel(\"N\")\n",
      "histogram_style()"
     ],
     "language": "python",
     "metadata": {},
     "outputs": [
      {
       "metadata": {},
       "output_type": "display_data",
       "png": "[encoded data removed]",
       "text": [
        "<matplotlib.figure.Figure at 0x9b968b0>"
       ]
      }
     ],
     "prompt_number": 42
    },
    {
     "cell_type": "markdown",
     "metadata": {},
     "source": [
      "**2.5**\n",
      "Using the original `movies` dataframe, plot the rotten tomatoes Top Critics Rating as a function of year. Overplot the average for each year, ignoring the score=0 examples (some of these are missing data). Comment on the result -- is there a trend? What do you think it means?"
     ]
    },
    {
     "cell_type": "code",
     "collapsed": false,
     "input": [
      "#Your code here\n",
      "sub=movies[['year','rtTopCriticsRating']]\n",
      "sub['rtTopCriticsRating']=[float(n) if n!=\"\\N\" else 0 for n in sub.rtTopCriticsRating]\n",
      "sub2=sub[sub.rtTopCriticsRating>0]\n",
      "mean=sub2.groupby('year').rtTopCriticsRating.mean()\n",
      "plt.plot(mean.keys(),mean)\n",
      "plt.scatter(sub2.year,sub2.rtTopCriticsRating,aplha=0.2)\n",
      "plt.xlabel(\"Year\")\n",
      "plt.ylabel(\"Average Top Rating\")\n",
      "histogram_style()"
     ],
     "language": "python",
     "metadata": {},
     "outputs": [
      {
       "ename": "AttributeError",
       "evalue": "Unknown property aplha",
       "output_type": "pyerr",
       "traceback": [
        "\u001b[1;31m---------------------------------------------------------------------------\u001b[0m\n\u001b[1;31mAttributeError\u001b[0m                            Traceback (most recent call last)",
        "\u001b[1;32m<ipython-input-98-c806b3fa59d3>\u001b[0m in \u001b[0;36m<module>\u001b[1;34m()\u001b[0m\n\u001b[0;32m      5\u001b[0m \u001b[0mmean\u001b[0m\u001b[1;33m=\u001b[0m\u001b[0msub2\u001b[0m\u001b[1;33m.\u001b[0m\u001b[0mgroupby\u001b[0m\u001b[1;33m(\u001b[0m\u001b[1;34m'year'\u001b[0m\u001b[1;33m)\u001b[0m\u001b[1;33m.\u001b[0m\u001b[0mrtTopCriticsRating\u001b[0m\u001b[1;33m.\u001b[0m\u001b[0mmean\u001b[0m\u001b[1;33m(\u001b[0m\u001b[1;33m)\u001b[0m\u001b[1;33m\u001b[0m\u001b[0m\n\u001b[0;32m      6\u001b[0m \u001b[0mplt\u001b[0m\u001b[1;33m.\u001b[0m\u001b[0mplot\u001b[0m\u001b[1;33m(\u001b[0m\u001b[0mmean\u001b[0m\u001b[1;33m.\u001b[0m\u001b[0mkeys\u001b[0m\u001b[1;33m(\u001b[0m\u001b[1;33m)\u001b[0m\u001b[1;33m,\u001b[0m\u001b[0mmean\u001b[0m\u001b[1;33m)\u001b[0m\u001b[1;33m\u001b[0m\u001b[0m\n\u001b[1;32m----> 7\u001b[1;33m \u001b[0mplt\u001b[0m\u001b[1;33m.\u001b[0m\u001b[0mscatter\u001b[0m\u001b[1;33m(\u001b[0m\u001b[0msub2\u001b[0m\u001b[1;33m.\u001b[0m\u001b[0myear\u001b[0m\u001b[1;33m,\u001b[0m\u001b[0msub2\u001b[0m\u001b[1;33m.\u001b[0m\u001b[0mrtTopCriticsRating\u001b[0m\u001b[1;33m,\u001b[0m\u001b[0maplha\u001b[0m\u001b[1;33m=\u001b[0m\u001b[1;36m0.2\u001b[0m\u001b[1;33m)\u001b[0m\u001b[1;33m\u001b[0m\u001b[0m\n\u001b[0m\u001b[0;32m      8\u001b[0m \u001b[0mplt\u001b[0m\u001b[1;33m.\u001b[0m\u001b[0mxlabel\u001b[0m\u001b[1;33m(\u001b[0m\u001b[1;34m\"Year\"\u001b[0m\u001b[1;33m)\u001b[0m\u001b[1;33m\u001b[0m\u001b[0m\n\u001b[0;32m      9\u001b[0m \u001b[0mplt\u001b[0m\u001b[1;33m.\u001b[0m\u001b[0mylabel\u001b[0m\u001b[1;33m(\u001b[0m\u001b[1;34m\"Average Top Rating\"\u001b[0m\u001b[1;33m)\u001b[0m\u001b[1;33m\u001b[0m\u001b[0m\n",
        "\u001b[1;32mC:\\Users\\jwen\\Anaconda\\lib\\site-packages\\matplotlib\\pyplot.pyc\u001b[0m in \u001b[0;36mscatter\u001b[1;34m(x, y, s, c, marker, cmap, norm, vmin, vmax, alpha, linewidths, verts, hold, **kwargs)\u001b[0m\n\u001b[0;32m   3085\u001b[0m         ret = ax.scatter(x, y, s=s, c=c, marker=marker, cmap=cmap, norm=norm,\n\u001b[0;32m   3086\u001b[0m                          \u001b[0mvmin\u001b[0m\u001b[1;33m=\u001b[0m\u001b[0mvmin\u001b[0m\u001b[1;33m,\u001b[0m \u001b[0mvmax\u001b[0m\u001b[1;33m=\u001b[0m\u001b[0mvmax\u001b[0m\u001b[1;33m,\u001b[0m \u001b[0malpha\u001b[0m\u001b[1;33m=\u001b[0m\u001b[0malpha\u001b[0m\u001b[1;33m,\u001b[0m\u001b[1;33m\u001b[0m\u001b[0m\n\u001b[1;32m-> 3087\u001b[1;33m                          linewidths=linewidths, verts=verts, **kwargs)\n\u001b[0m\u001b[0;32m   3088\u001b[0m         \u001b[0mdraw_if_interactive\u001b[0m\u001b[1;33m(\u001b[0m\u001b[1;33m)\u001b[0m\u001b[1;33m\u001b[0m\u001b[0m\n\u001b[0;32m   3089\u001b[0m     \u001b[1;32mfinally\u001b[0m\u001b[1;33m:\u001b[0m\u001b[1;33m\u001b[0m\u001b[0m\n",
        "\u001b[1;32mC:\\Users\\jwen\\Anaconda\\lib\\site-packages\\matplotlib\\axes.pyc\u001b[0m in \u001b[0;36mscatter\u001b[1;34m(self, x, y, s, c, marker, cmap, norm, vmin, vmax, alpha, linewidths, verts, **kwargs)\u001b[0m\n\u001b[0;32m   6309\u001b[0m         \u001b[0mcollection\u001b[0m\u001b[1;33m.\u001b[0m\u001b[0mset_transform\u001b[0m\u001b[1;33m(\u001b[0m\u001b[0mmtransforms\u001b[0m\u001b[1;33m.\u001b[0m\u001b[0mIdentityTransform\u001b[0m\u001b[1;33m(\u001b[0m\u001b[1;33m)\u001b[0m\u001b[1;33m)\u001b[0m\u001b[1;33m\u001b[0m\u001b[0m\n\u001b[0;32m   6310\u001b[0m         \u001b[0mcollection\u001b[0m\u001b[1;33m.\u001b[0m\u001b[0mset_alpha\u001b[0m\u001b[1;33m(\u001b[0m\u001b[0malpha\u001b[0m\u001b[1;33m)\u001b[0m\u001b[1;33m\u001b[0m\u001b[0m\n\u001b[1;32m-> 6311\u001b[1;33m         \u001b[0mcollection\u001b[0m\u001b[1;33m.\u001b[0m\u001b[0mupdate\u001b[0m\u001b[1;33m(\u001b[0m\u001b[0mkwargs\u001b[0m\u001b[1;33m)\u001b[0m\u001b[1;33m\u001b[0m\u001b[0m\n\u001b[0m\u001b[0;32m   6312\u001b[0m \u001b[1;33m\u001b[0m\u001b[0m\n\u001b[0;32m   6313\u001b[0m         \u001b[1;32mif\u001b[0m \u001b[0mcolors\u001b[0m \u001b[1;32mis\u001b[0m \u001b[0mNone\u001b[0m\u001b[1;33m:\u001b[0m\u001b[1;33m\u001b[0m\u001b[0m\n",
        "\u001b[1;32mC:\\Users\\jwen\\Anaconda\\lib\\site-packages\\matplotlib\\artist.pyc\u001b[0m in \u001b[0;36mupdate\u001b[1;34m(self, props)\u001b[0m\n\u001b[0;32m    736\u001b[0m             \u001b[0mfunc\u001b[0m \u001b[1;33m=\u001b[0m \u001b[0mgetattr\u001b[0m\u001b[1;33m(\u001b[0m\u001b[0mself\u001b[0m\u001b[1;33m,\u001b[0m \u001b[1;34m'set_'\u001b[0m \u001b[1;33m+\u001b[0m \u001b[0mk\u001b[0m\u001b[1;33m,\u001b[0m \u001b[0mNone\u001b[0m\u001b[1;33m)\u001b[0m\u001b[1;33m\u001b[0m\u001b[0m\n\u001b[0;32m    737\u001b[0m             \u001b[1;32mif\u001b[0m \u001b[0mfunc\u001b[0m \u001b[1;32mis\u001b[0m \u001b[0mNone\u001b[0m \u001b[1;32mor\u001b[0m \u001b[1;32mnot\u001b[0m \u001b[0mcallable\u001b[0m\u001b[1;33m(\u001b[0m\u001b[0mfunc\u001b[0m\u001b[1;33m)\u001b[0m\u001b[1;33m:\u001b[0m\u001b[1;33m\u001b[0m\u001b[0m\n\u001b[1;32m--> 738\u001b[1;33m                 \u001b[1;32mraise\u001b[0m \u001b[0mAttributeError\u001b[0m\u001b[1;33m(\u001b[0m\u001b[1;34m'Unknown property %s'\u001b[0m \u001b[1;33m%\u001b[0m \u001b[0mk\u001b[0m\u001b[1;33m)\u001b[0m\u001b[1;33m\u001b[0m\u001b[0m\n\u001b[0m\u001b[0;32m    739\u001b[0m             \u001b[0mfunc\u001b[0m\u001b[1;33m(\u001b[0m\u001b[0mv\u001b[0m\u001b[1;33m)\u001b[0m\u001b[1;33m\u001b[0m\u001b[0m\n\u001b[0;32m    740\u001b[0m             \u001b[0mchanged\u001b[0m \u001b[1;33m=\u001b[0m \u001b[0mTrue\u001b[0m\u001b[1;33m\u001b[0m\u001b[0m\n",
        "\u001b[1;31mAttributeError\u001b[0m: Unknown property aplha"
       ]
      },
      {
       "metadata": {},
       "output_type": "display_data",
       "png": "[encoded data removed]",
       "text": [
        "<matplotlib.figure.Figure at 0xa627d30>"
       ]
      }
     ],
     "prompt_number": 98
    },
    {
     "cell_type": "code",
     "collapsed": false,
     "input": [
      "movies.head()"
     ],
     "language": "python",
     "metadata": {},
     "outputs": [
      {
       "html": [
        "<div style=\"max-height:1000px;max-width:1500px;overflow:auto;\">\n",
        "<table border=\"1\" class=\"dataframe\">\n",
        "  <thead>\n",
        "    <tr style=\"text-align: right;\">\n",
        "      <th></th>\n",
        "      <th>id</th>\n",
        "      <th>title</th>\n",
        "      <th>imdbID</th>\n",
        "      <th>spanishTitle</th>\n",
        "      <th>imdbPictureURL</th>\n",
        "      <th>year</th>\n",
        "      <th>rtID</th>\n",
        "      <th>rtAllCriticsRating</th>\n",
        "      <th>rtAllCriticsNumReviews</th>\n",
        "      <th>rtAllCriticsNumFresh</th>\n",
        "      <th>rtAllCriticsNumRotten</th>\n",
        "      <th>rtAllCriticsScore</th>\n",
        "      <th>rtTopCriticsRating</th>\n",
        "      <th>rtTopCriticsNumReviews</th>\n",
        "      <th>rtTopCriticsNumFresh</th>\n",
        "      <th>rtTopCriticsNumRotten</th>\n",
        "      <th>rtTopCriticsScore</th>\n",
        "      <th>rtAudienceRating</th>\n",
        "      <th>rtAudienceNumRatings</th>\n",
        "      <th>rtAudienceScore</th>\n",
        "      <th>rtPictureURL</th>\n",
        "    </tr>\n",
        "  </thead>\n",
        "  <tbody>\n",
        "    <tr>\n",
        "      <th>0</th>\n",
        "      <td> 1</td>\n",
        "      <td>                   Toy story</td>\n",
        "      <td> 114709</td>\n",
        "      <td>                              Toy story (juguetes)</td>\n",
        "      <td> http://ia.media-imdb.com/images/M/MV5BMTMwNDU0...</td>\n",
        "      <td> 1995</td>\n",
        "      <td>                   toy_story</td>\n",
        "      <td>   9</td>\n",
        "      <td> 73</td>\n",
        "      <td> 73</td>\n",
        "      <td>  0</td>\n",
        "      <td> 100</td>\n",
        "      <td> 8.5</td>\n",
        "      <td> 17</td>\n",
        "      <td> 17</td>\n",
        "      <td> 0</td>\n",
        "      <td> 100</td>\n",
        "      <td> 3.7</td>\n",
        "      <td> 102338</td>\n",
        "      <td> 81</td>\n",
        "      <td> http://content7.flixster.com/movie/10/93/63/10...</td>\n",
        "    </tr>\n",
        "    <tr>\n",
        "      <th>1</th>\n",
        "      <td> 2</td>\n",
        "      <td>                     Jumanji</td>\n",
        "      <td> 113497</td>\n",
        "      <td>                                           Jumanji</td>\n",
        "      <td> http://ia.media-imdb.com/images/M/MV5BMzM5NjE1...</td>\n",
        "      <td> 1995</td>\n",
        "      <td>             1068044-jumanji</td>\n",
        "      <td> 5.6</td>\n",
        "      <td> 28</td>\n",
        "      <td> 13</td>\n",
        "      <td> 15</td>\n",
        "      <td>  46</td>\n",
        "      <td> 5.8</td>\n",
        "      <td>  5</td>\n",
        "      <td>  2</td>\n",
        "      <td> 3</td>\n",
        "      <td>  40</td>\n",
        "      <td> 3.2</td>\n",
        "      <td>  44587</td>\n",
        "      <td> 61</td>\n",
        "      <td> http://content8.flixster.com/movie/56/79/73/56...</td>\n",
        "    </tr>\n",
        "    <tr>\n",
        "      <th>2</th>\n",
        "      <td> 3</td>\n",
        "      <td>              Grumpy Old Men</td>\n",
        "      <td> 107050</td>\n",
        "      <td>                               Dos viejos gru\u00f1ones</td>\n",
        "      <td> http://ia.media-imdb.com/images/M/MV5BMTI5MTgy...</td>\n",
        "      <td> 1993</td>\n",
        "      <td>              grumpy_old_men</td>\n",
        "      <td> 5.9</td>\n",
        "      <td> 36</td>\n",
        "      <td> 24</td>\n",
        "      <td> 12</td>\n",
        "      <td>  66</td>\n",
        "      <td>   7</td>\n",
        "      <td>  6</td>\n",
        "      <td>  5</td>\n",
        "      <td> 1</td>\n",
        "      <td>  83</td>\n",
        "      <td> 3.2</td>\n",
        "      <td>  10489</td>\n",
        "      <td> 66</td>\n",
        "      <td> http://content6.flixster.com/movie/25/60/25602...</td>\n",
        "    </tr>\n",
        "    <tr>\n",
        "      <th>3</th>\n",
        "      <td> 4</td>\n",
        "      <td>           Waiting to Exhale</td>\n",
        "      <td> 114885</td>\n",
        "      <td>                              Esperando un respiro</td>\n",
        "      <td> http://ia.media-imdb.com/images/M/MV5BMTczMTMy...</td>\n",
        "      <td> 1995</td>\n",
        "      <td>           waiting_to_exhale</td>\n",
        "      <td> 5.6</td>\n",
        "      <td> 25</td>\n",
        "      <td> 14</td>\n",
        "      <td> 11</td>\n",
        "      <td>  56</td>\n",
        "      <td> 5.5</td>\n",
        "      <td> 11</td>\n",
        "      <td>  5</td>\n",
        "      <td> 6</td>\n",
        "      <td>  45</td>\n",
        "      <td> 3.3</td>\n",
        "      <td>   5666</td>\n",
        "      <td> 79</td>\n",
        "      <td> http://content9.flixster.com/movie/10/94/17/10...</td>\n",
        "    </tr>\n",
        "    <tr>\n",
        "      <th>4</th>\n",
        "      <td> 5</td>\n",
        "      <td> Father of the Bride Part II</td>\n",
        "      <td> 113041</td>\n",
        "      <td> Vuelve el padre de la novia (Ahora tambi\u00e9n abu...</td>\n",
        "      <td> http://ia.media-imdb.com/images/M/MV5BMTg1NDc2...</td>\n",
        "      <td> 1995</td>\n",
        "      <td> father_of_the_bride_part_ii</td>\n",
        "      <td> 5.3</td>\n",
        "      <td> 19</td>\n",
        "      <td>  9</td>\n",
        "      <td> 10</td>\n",
        "      <td>  47</td>\n",
        "      <td> 5.4</td>\n",
        "      <td>  5</td>\n",
        "      <td>  1</td>\n",
        "      <td> 4</td>\n",
        "      <td>  20</td>\n",
        "      <td>   3</td>\n",
        "      <td>  13761</td>\n",
        "      <td> 64</td>\n",
        "      <td> http://content8.flixster.com/movie/25/54/25542...</td>\n",
        "    </tr>\n",
        "  </tbody>\n",
        "</table>\n",
        "</div>"
       ],
       "metadata": {},
       "output_type": "pyout",
       "prompt_number": 55,
       "text": [
        "   id                        title  imdbID                                       spanishTitle                                     imdbPictureURL  year                         rtID rtAllCriticsRating rtAllCriticsNumReviews rtAllCriticsNumFresh rtAllCriticsNumRotten rtAllCriticsScore rtTopCriticsRating rtTopCriticsNumReviews rtTopCriticsNumFresh rtTopCriticsNumRotten rtTopCriticsScore rtAudienceRating rtAudienceNumRatings rtAudienceScore                                       rtPictureURL\n",
        "0   1                    Toy story  114709                               Toy story (juguetes)  http://ia.media-imdb.com/images/M/MV5BMTMwNDU0...  1995                    toy_story                  9                     73                   73                     0               100                8.5                     17                   17                     0               100              3.7               102338              81  http://content7.flixster.com/movie/10/93/63/10...\n",
        "1   2                      Jumanji  113497                                            Jumanji  http://ia.media-imdb.com/images/M/MV5BMzM5NjE1...  1995              1068044-jumanji                5.6                     28                   13                    15                46                5.8                      5                    2                     3                40              3.2                44587              61  http://content8.flixster.com/movie/56/79/73/56...\n",
        "2   3               Grumpy Old Men  107050                                Dos viejos gru\u00f1ones  http://ia.media-imdb.com/images/M/MV5BMTI5MTgy...  1993               grumpy_old_men                5.9                     36                   24                    12                66                  7                      6                    5                     1                83              3.2                10489              66  http://content6.flixster.com/movie/25/60/25602...\n",
        "3   4            Waiting to Exhale  114885                               Esperando un respiro  http://ia.media-imdb.com/images/M/MV5BMTczMTMy...  1995            waiting_to_exhale                5.6                     25                   14                    11                56                5.5                     11                    5                     6                45              3.3                 5666              79  http://content9.flixster.com/movie/10/94/17/10...\n",
        "4   5  Father of the Bride Part II  113041  Vuelve el padre de la novia (Ahora tambi\u00e9n abu...  http://ia.media-imdb.com/images/M/MV5BMTg1NDc2...  1995  father_of_the_bride_part_ii                5.3                     19                    9                    10                47                5.4                      5                    1                     4                20                3                13761              64  http://content8.flixster.com/movie/25/54/25542..."
       ]
      }
     ],
     "prompt_number": 55
    },
    {
     "cell_type": "markdown",
     "metadata": {},
     "source": [
      "*Your Comment Here*"
     ]
    },
    {
     "cell_type": "markdown",
     "metadata": {},
     "source": [
      "## Part 3: Sentiment Analysis\n",
      "\n",
      "You will now use a [Naive Bayes classifier](https://en.wikipedia.org/wiki/Naive_Bayes_classifier) to build a prediction model for whether a review is fresh or rotten, depending on the text of the review. See Lecture 9 for a discussion of Naive Bayes.\n",
      "\n",
      "Most models work with numerical data, so we need to convert the textual collection of reviews to something numerical. A common strategy for text classification is to represent each review as a \"bag of words\" vector -- a long vector\n",
      "of numbers encoding how many times a particular word appears in a blurb.\n",
      "\n",
      "Scikit-learn has an object called a `CountVectorizer` that turns text into a bag of words. Here's a quick tutorial:"
     ]
    },
    {
     "cell_type": "code",
     "collapsed": false,
     "input": [
      "from sklearn.feature_extraction.text import CountVectorizer\n",
      "\n",
      "text = ['Hop on pop', 'Hop off pop', 'Hop Hop hop']\n",
      "print \"Original text is\\n\", '\\n'.join(text)\n",
      "\n",
      "vectorizer = CountVectorizer(min_df=0)\n",
      "\n",
      "# call `fit` to build the vocabulary\n",
      "vectorizer.fit(text)\n",
      "\n",
      "# call `transform` to convert text to a bag of words\n",
      "x = vectorizer.transform(text)\n",
      "\n",
      "# CountVectorizer uses a sparse array to save memory, but it's easier in this assignment to \n",
      "# convert back to a \"normal\" numpy array\n",
      "x = x.toarray()\n",
      "\n",
      "print\n",
      "print \"Transformed text vector is \\n\", x\n",
      "\n",
      "# `get_feature_names` tracks which word is associated with each column of the transformed x\n",
      "print\n",
      "print \"Words for each feature:\"\n",
      "print vectorizer.get_feature_names()\n",
      "\n",
      "# Notice that the bag of words treatment doesn't preserve information about the *order* of words, \n",
      "# just their frequency"
     ],
     "language": "python",
     "metadata": {},
     "outputs": [],
     "prompt_number": 13
    },
    {
     "cell_type": "markdown",
     "metadata": {},
     "source": [
      "**3.1**\n",
      "\n",
      "Using the `critics` dataframe, compute a pair of numerical X, Y arrays where:\n",
      "    \n",
      " * X is a `(nreview, nwords)` array. Each row corresponds to a bag-of-words representation for a single review. This will be the *input* to your model.\n",
      " * Y is a `nreview`-element 1/0 array, encoding whether a review is Fresh (1) or Rotten (0). This is the desired *output* from your model.\n"
     ]
    },
    {
     "cell_type": "code",
     "collapsed": false,
     "input": [
      "#hint: Consult the scikit-learn documentation to\n",
      "#      learn about what these classes do do\n",
      "from sklearn.cross_validation import train_test_split\n",
      "from sklearn.naive_bayes import MultinomialNB\n",
      "\n",
      "\"\"\"\n",
      "Function\n",
      "--------\n",
      "make_xy\n",
      "\n",
      "Build a bag-of-words training set for the review data\n",
      "\n",
      "Parameters\n",
      "-----------\n",
      "critics : Pandas DataFrame\n",
      "    The review data from above\n",
      "    \n",
      "vectorizer : CountVectorizer object (optional)\n",
      "    A CountVectorizer object to use. If None,\n",
      "    then create and fit a new CountVectorizer.\n",
      "    Otherwise, re-fit the provided CountVectorizer\n",
      "    using the critics data\n",
      "    \n",
      "Returns\n",
      "-------\n",
      "X : numpy array (dims: nreview, nwords)\n",
      "    Bag-of-words representation for each review.\n",
      "Y : numpy array (dims: nreview)\n",
      "    1/0 array. 1 = fresh review, 0 = rotten review\n",
      "\n",
      "Examples\n",
      "--------\n",
      "X, Y = make_xy(critics)\n",
      "\"\"\"\n",
      "def make_xy(critics, vectorizer=None):\n",
      "    #Your code here    \n"
     ],
     "language": "python",
     "metadata": {},
     "outputs": [],
     "prompt_number": 14
    },
    {
     "cell_type": "code",
     "collapsed": false,
     "input": [
      "X, Y = make_xy(critics)"
     ],
     "language": "python",
     "metadata": {},
     "outputs": [],
     "prompt_number": 15
    },
    {
     "cell_type": "markdown",
     "metadata": {},
     "source": [
      "\n",
      "**3.2** Next, randomly split the data into two groups: a\n",
      "training set and a validation set. \n",
      "\n",
      "Use the training set to train a `MultinomialNB` classifier,\n",
      "and print the accuracy of this model on the validation set\n",
      "\n",
      "**Hint**\n",
      "You can use [`train_test_split`](http://scikit-learn.org/stable/modules/generated/sklearn.cross_validation.train_test_split.html) to split up the training data"
     ]
    },
    {
     "cell_type": "code",
     "collapsed": false,
     "input": [
      "#Your code here\n"
     ],
     "language": "python",
     "metadata": {},
     "outputs": [],
     "prompt_number": 16
    },
    {
     "cell_type": "markdown",
     "metadata": {},
     "source": [
      "**3.3:**\n",
      "\n",
      "We say a model is **overfit** if it performs better on the training data than on the test data. Is this model overfit? If so, how much more accurate is the model on the training data compared to the test data?"
     ]
    },
    {
     "cell_type": "code",
     "collapsed": false,
     "input": [
      "# Your code here. Print the accuracy on the test and training dataset\n"
     ],
     "language": "python",
     "metadata": {},
     "outputs": [],
     "prompt_number": 17
    },
    {
     "cell_type": "markdown",
     "metadata": {},
     "source": [
      "*Interpret these numbers in a few sentences here*"
     ]
    },
    {
     "cell_type": "markdown",
     "metadata": {},
     "source": [
      "**3.4: Model Calibration**\n",
      "\n",
      "Bayesian models like the Naive Bayes classifier have the nice property that they compute probabilities of a particular classification -- the `predict_proba` and `predict_log_proba` methods of `MultinomialNB` compute these probabilities. \n",
      "\n",
      "Being the respectable Bayesian that you are, you should always assess whether these probabilities are **calibrated** -- that is, whether a prediction made with a confidence of `x%` is correct approximately `x%` of the time. We care about calibration because it tells us whether we can trust the probabilities computed by a model. If we can trust model probabilities, we can make better decisions using them (for example, we can calculate how much we should bet or invest in a given prediction).\n",
      "\n",
      "Let's make a plot to assess model calibration. Schematically, we want something like this:\n",
      "\n",
      "<img src=\"http://i.imgur.com/ea5B6zr.png\" width=500px>\n",
      "\n",
      "In words, we want to:\n",
      "\n",
      "* Take a collection of examples, and compute the freshness probability for each using `clf.predict_proba`\n",
      "* Gather examples into bins of similar freshness probability (the diagram shows 5 groups -- you should use something closer to 20)\n",
      "* For each bin, count the number of examples in that bin, and compute the fraction of examples in the bin which are fresh\n",
      "* In the upper plot, graph the expected P(Fresh) (x axis) and observed freshness fraction (Y axis). Estimate the uncertainty in observed freshness fraction $F$ via the [equation](http://en.wikipedia.org/wiki/Binomial_proportion_confidence_interval) $\\sigma = \\sqrt{F (1-F) / N}$\n",
      "* Overplot the line y=x. This is the trend we would expect if the model is calibrated\n",
      "* In the lower plot, show the number of examples in each bin\n",
      "\n",
      "**Hints**\n",
      "\n",
      "The output of `clf.predict_proba(X)` is a `(N example, 2)` array. The first column gives the probability $P(Y=0)$ or  $P(Rotten)$, and the second gives $P(Y=1)$ or $P(Fresh)$.\n",
      "\n",
      "The above image is just a guideline -- feel free to explore other options!"
     ]
    },
    {
     "cell_type": "code",
     "collapsed": false,
     "input": [
      "\"\"\"\n",
      "Function\n",
      "--------\n",
      "calibration_plot\n",
      "\n",
      "Builds a plot like the one above, from a classifier and review data\n",
      "\n",
      "Inputs\n",
      "-------\n",
      "clf : Classifier object\n",
      "    A MultinomialNB classifier\n",
      "X : (Nexample, Nfeature) array\n",
      "    The bag-of-words data\n",
      "Y : (Nexample) integer array\n",
      "    1 if a review is Fresh\n",
      "\"\"\"    \n",
      "#your code here\n"
     ],
     "language": "python",
     "metadata": {},
     "outputs": [],
     "prompt_number": 18
    },
    {
     "cell_type": "code",
     "collapsed": false,
     "input": [
      "calibration_plot(clf, xtest, ytest)"
     ],
     "language": "python",
     "metadata": {},
     "outputs": [],
     "prompt_number": 19
    },
    {
     "cell_type": "markdown",
     "metadata": {},
     "source": [
      "**3.5** We might say a model is *over-confident* if the freshness fraction is usually closer to 0.5 than expected (that is, there is more uncertainty than the model predicted). Likewise, a model is *under-confident* if the probabilities are usually further away from 0.5. Is this model generally over- or under-confident? "
     ]
    },
    {
     "cell_type": "markdown",
     "metadata": {},
     "source": [
      "*Your Answer Here*"
     ]
    },
    {
     "cell_type": "markdown",
     "metadata": {},
     "source": [
      "#### Cross Validation\n",
      "\n",
      "Our classifier has a few free parameters. The two most important are:\n",
      "\n",
      " 1. The `min_df` keyword in `CountVectorizer`, which will ignore words which appear in fewer than `min_df` fraction of reviews. Words that appear only once or twice can lead to overfitting, since words which occur only a few times might correlate very well with Fresh/Rotten reviews by chance in the training dataset.\n",
      " \n",
      " 2. The [`alpha` keyword](http://scikit-learn.org/stable/modules/naive_bayes.html#multinomial-naive-bayes) in the Bayesian classifier is a \"smoothing parameter\" -- increasing the value decreases the sensitivity to any single feature, and tends to pull prediction probabilities closer to 50%. \n",
      "\n",
      "As discussed in lecture and HW2, a common technique for choosing appropriate values for these parameters is **cross-validation**. Let's choose good parameters by maximizing the cross-validated log-likelihood.\n",
      "\n",
      "**3.6** Using `clf.predict_log_proba`, write a function that computes the log-likelihood of a dataset"
     ]
    },
    {
     "cell_type": "code",
     "collapsed": false,
     "input": [
      "\"\"\"\n",
      "Function\n",
      "--------\n",
      "log_likelihood\n",
      "\n",
      "Compute the log likelihood of a dataset according to a bayesian classifier. \n",
      "The Log Likelihood is defined by\n",
      "\n",
      "L = Sum_fresh(logP(fresh)) + Sum_rotten(logP(rotten))\n",
      "\n",
      "Where Sum_fresh indicates a sum over all fresh reviews, \n",
      "and Sum_rotten indicates a sum over rotten reviews\n",
      "    \n",
      "Parameters\n",
      "----------\n",
      "clf : Bayesian classifier\n",
      "x : (nexample, nfeature) array\n",
      "    The input data\n",
      "y : (nexample) integer array\n",
      "    Whether each review is Fresh\n",
      "\"\"\"\n",
      "#your code here\n"
     ],
     "language": "python",
     "metadata": {},
     "outputs": [],
     "prompt_number": 20
    },
    {
     "cell_type": "markdown",
     "metadata": {},
     "source": [
      "Here's a function to estimate the cross-validated value of a scoring function, given a classifier and data"
     ]
    },
    {
     "cell_type": "code",
     "collapsed": false,
     "input": [
      "from sklearn.cross_validation import KFold\n",
      "\n",
      "def cv_score(clf, x, y, score_func):\n",
      "    \"\"\"\n",
      "    Uses 5-fold cross validation to estimate a score of a classifier\n",
      "    \n",
      "    Inputs\n",
      "    ------\n",
      "    clf : Classifier object\n",
      "    x : Input feature vector\n",
      "    y : Input class labels\n",
      "    score_func : Function like log_likelihood, that takes (clf, x, y) as input,\n",
      "                 and returns a score\n",
      "                 \n",
      "    Returns\n",
      "    -------\n",
      "    The average score obtained by randomly splitting (x, y) into training and \n",
      "    test sets, fitting on the training set, and evaluating score_func on the test set\n",
      "    \n",
      "    Examples\n",
      "    cv_score(clf, x, y, log_likelihood)\n",
      "    \"\"\"\n",
      "    result = 0\n",
      "    nfold = 5\n",
      "    for train, test in KFold(y.size, nfold): # split data into train/test groups, 5 times\n",
      "        clf.fit(x[train], y[train]) # fit\n",
      "        result += score_func(clf, x[test], y[test]) # evaluate score function on held-out data\n",
      "    return result / nfold # average\n",
      "\n",
      "# as a side note, this function is builtin to the newest version of sklearn. We could just write\n",
      "# sklearn.cross_validation.cross_val_score(clf, x, y, scorer=log_likelihood)."
     ],
     "language": "python",
     "metadata": {},
     "outputs": [],
     "prompt_number": 8
    },
    {
     "cell_type": "markdown",
     "metadata": {},
     "source": [
      "**3.7**\n",
      "\n",
      "Fill in the remaining code in this block, to loop over many values of `alpha` and `min_df` to determine\n",
      "which settings are \"best\" in the sense of maximizing the cross-validated log-likelihood"
     ]
    },
    {
     "cell_type": "code",
     "collapsed": false,
     "input": [
      "#the grid of parameters to search over\n",
      "alphas = [0, .1, 1, 5, 10, 50]\n",
      "min_dfs = [1e-5, 1e-4, 1e-3, 1e-2, 1e-1]\n",
      "\n",
      "#Find the best value for alpha and min_df, and the best classifier\n",
      "best_alpha = None\n",
      "best_min_df = None\n",
      "max_loglike = -np.inf\n",
      "\n",
      "for alpha in alphas:\n",
      "    for min_df in min_dfs:         \n",
      "        vectorizer = CountVectorizer(min_df = min_df)       \n",
      "        X, Y = make_xy(critics, vectorizer)\n",
      "        \n",
      "        #your code here\n"
     ],
     "language": "python",
     "metadata": {},
     "outputs": [],
     "prompt_number": 22
    },
    {
     "cell_type": "code",
     "collapsed": false,
     "input": [
      "print \"alpha: %f\" % best_alpha\n",
      "print \"min_df: %f\" % best_min_df"
     ],
     "language": "python",
     "metadata": {},
     "outputs": [],
     "prompt_number": 23
    },
    {
     "cell_type": "markdown",
     "metadata": {},
     "source": [
      "**3.8** Now that you've determined values for alpha and min_df that optimize the cross-validated log-likelihood, repeat the steps in 3.1, 3.2, and 3.4 to train a final classifier with these parameters, re-evaluate the accuracy, and draw a new calibration plot."
     ]
    },
    {
     "cell_type": "code",
     "collapsed": false,
     "input": [
      "#Your code here\n"
     ],
     "language": "python",
     "metadata": {},
     "outputs": [],
     "prompt_number": 24
    },
    {
     "cell_type": "markdown",
     "metadata": {},
     "source": [
      "**3.9** Discuss the various ways in which Cross-Validation has affected the model. Is the new model more or less accurate? Is overfitting better or worse? Is the model more or less calibrated?"
     ]
    },
    {
     "cell_type": "markdown",
     "metadata": {},
     "source": [
      "*Your Answer Here*"
     ]
    },
    {
     "cell_type": "markdown",
     "metadata": {},
     "source": [
      "*To think about/play with, but not to hand in: What would happen if you tried this again using a function besides the log-likelihood -- for example, the classification accuracy?*"
     ]
    },
    {
     "cell_type": "markdown",
     "metadata": {},
     "source": [
      "## Part 4: Interpretation. What words best predict a fresh or rotten review?\n",
      "\n",
      "**4.1**\n",
      "Using your classifier and the `vectorizer.get_feature_names` method, determine which words best predict a positive or negative review. Print the 10 words\n",
      "that best predict a \"fresh\" review, and the 10 words that best predict a \"rotten\" review. For each word, what is the model's probability of freshness if the word appears one time?\n",
      "\n",
      "#### Hints\n",
      "\n",
      "* Try computing the classification probability for a feature vector which consists of all 0s, except for a single 1. What does this probability refer to?\n",
      "\n",
      "* `np.eye` generates a matrix where the ith row is all 0s, except for the ith column which is 1."
     ]
    },
    {
     "cell_type": "code",
     "collapsed": false,
     "input": [
      "# Your code here\n"
     ],
     "language": "python",
     "metadata": {},
     "outputs": [],
     "prompt_number": 25
    },
    {
     "cell_type": "markdown",
     "metadata": {},
     "source": [
      "**4.2**\n",
      "\n",
      "One of the best sources for inspiration when trying to improve a model is to look at examples where the model performs poorly. \n",
      "\n",
      "Find 5 fresh and rotten reviews where your model performs particularly poorly. Print each review."
     ]
    },
    {
     "cell_type": "code",
     "collapsed": false,
     "input": [
      "#Your code here\n"
     ],
     "language": "python",
     "metadata": {},
     "outputs": [],
     "prompt_number": 26
    },
    {
     "cell_type": "markdown",
     "metadata": {},
     "source": [
      "**4.3** What do you notice about these mis-predictions? Naive Bayes classifiers assume that every word affects the probability independently of other words. In what way is this a bad assumption? In your answer, report your classifier's Freshness probability for the review \"This movie is not remarkable, touching, or superb in any way\"."
     ]
    },
    {
     "cell_type": "markdown",
     "metadata": {},
     "source": [
      "*Your answer here*"
     ]
    },
    {
     "cell_type": "markdown",
     "metadata": {},
     "source": [
      "**4.4**\n",
      "If this was your final project, what are 3 things you would try in order to build a more effective review classifier? What other exploratory or explanatory visualizations do you think might be helpful?"
     ]
    },
    {
     "cell_type": "markdown",
     "metadata": {},
     "source": [
      "*Your answer here*"
     ]
    },
    {
     "cell_type": "markdown",
     "metadata": {},
     "source": [
      "### How to Submit\n",
      "\n",
      "Restart and run your notebook one last time, to make sure the output from each cell is up to date. To submit your homework, create a folder named lastname_firstinitial_hw3 and place your solutions in the folder. Double check that the file is still called HW3.ipynb, and that it contains your code. Please do **not** include the critics.csv data file, if you created one. Compress the folder (please use .zip compression) and submit to the CS109 dropbox in the appropriate folder. If we cannot access your work because these directions are not followed correctly, we will not grade your work!"
     ]
    },
    {
     "cell_type": "markdown",
     "metadata": {},
     "source": [
      "---\n",
      "*css tweaks in this cell*\n",
      "<style>\n",
      "div.text_cell_render {\n",
      "    line-height: 150%;\n",
      "    font-size: 110%;\n",
      "    width: 800px;\n",
      "    margin-left:50px;\n",
      "    margin-right:auto;\n",
      "    }\n",
      "</style>"
     ]
    }
   ],
   "metadata": {}
  }
 ]
}